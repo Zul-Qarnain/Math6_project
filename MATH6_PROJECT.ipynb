{
  "nbformat": 4,
  "nbformat_minor": 0,
  "metadata": {
    "colab": {
      "provenance": [],
      "authorship_tag": "ABX9TyOK9ZK96pO9EZl5Sy79+TwO",
      "include_colab_link": true
    },
    "kernelspec": {
      "name": "python3",
      "display_name": "Python 3"
    },
    "language_info": {
      "name": "python"
    }
  },
  "cells": [
    {
      "cell_type": "markdown",
      "metadata": {
        "id": "view-in-github",
        "colab_type": "text"
      },
      "source": [
        "<a href=\"https://colab.research.google.com/github/Zul-Qarnain/Math6_project/blob/main/MATH6_PROJECT.ipynb\" target=\"_parent\"><img src=\"https://colab.research.google.com/assets/colab-badge.svg\" alt=\"Open In Colab\"/></a>"
      ]
    },
    {
      "cell_type": "markdown",
      "source": [
        "# New section"
      ],
      "metadata": {
        "id": "C1NUgO8ESRZl"
      }
    },
    {
      "cell_type": "code",
      "source": [],
      "metadata": {
        "id": "8xpUmaZASTL6"
      },
      "execution_count": null,
      "outputs": []
    }
  ]
}